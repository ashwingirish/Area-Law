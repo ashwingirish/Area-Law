{
 "cells": [
  {
   "cell_type": "markdown",
   "id": "1ce115d8",
   "metadata": {},
   "source": [
    "# Libraries and Input Parameters"
   ]
  },
  {
   "cell_type": "code",
   "execution_count": 1,
   "id": "e608fe2e",
   "metadata": {
    "scrolled": true
   },
   "outputs": [
    {
     "name": "stdout",
     "output_type": "stream",
     "text": [
      "setting __package__ to gwsurrogate.new so relative imports work\n",
      "__name__ = gwsurrogate.new.spline_evaluation\n",
      "__package__= gwsurrogate.new\n",
      "setting __package__ to gwsurrogate.new so relative imports work\n",
      "setting __package__ to gwsurrogate.new so relative imports work\n"
     ]
    },
    {
     "name": "stderr",
     "output_type": "stream",
     "text": [
      "/nasdata1/ashwin.girish/miniconda3/envs/ringdown/lib/python3.10/site-packages/gwtools/rotations.py:63: UserWarning: Could not import GWFrames, needed for rotations module\n",
      "  _warnings.warn(\"Could not import GWFrames, needed for rotations module\")\n",
      "/nasdata1/ashwin.girish/miniconda3/envs/ringdown/lib/python3.10/site-packages/gwtools/__init__.py:11: UserWarning: Could not import rotations, decompositions, or fitfuncs. These are not needed by GWSurrogate.\n",
      "  _warnings.warn(\"Could not import rotations, decompositions, or fitfuncs. These are not needed by GWSurrogate.\")\n"
     ]
    }
   ],
   "source": [
    "from pylab import *\n",
    "import numpy as np\n",
    "import arviz as az\n",
    "import pandas as pd\n",
    "import seaborn as sns\n",
    "import h5py\n",
    "import ringdown\n",
    "import matplotlib.pyplot as plt\n",
    "import scipy\n",
    "import random\n",
    "from __future__ import division, print_function\n",
    "import bilby\n",
    "from bilby.core.prior import Uniform\n",
    "from bilby.gw.conversion import convert_to_lal_binary_black_hole_parameters, generate_all_bbh_parameters\n",
    "from gwpy.timeseries import TimeSeries\n",
    "import pycbc.catalog\n",
    "import pycbc.waveform\n",
    "\n",
    "sns.set_context('notebook')\n",
    "sns.set_palette('colorblind')"
   ]
  },
  {
   "cell_type": "code",
   "execution_count": 2,
   "id": "cf0ce7e9",
   "metadata": {
    "scrolled": true
   },
   "outputs": [],
   "source": [
    "#Importing surrogate model\n",
    "#gwsurrogate.catalog.pull('NRSur7dq4')"
   ]
  },
  {
   "cell_type": "code",
   "execution_count": 3,
   "id": "254a0885",
   "metadata": {},
   "outputs": [],
   "source": [
    "#sur = gwsurrogate.LoadSurrogate('NRSur7dq4')"
   ]
  },
  {
   "cell_type": "code",
   "execution_count": 4,
   "id": "dcdfc6e4",
   "metadata": {
    "scrolled": true
   },
   "outputs": [],
   "source": [
    "#help(sur)"
   ]
  },
  {
   "cell_type": "code",
   "execution_count": 5,
   "id": "b9df63bd",
   "metadata": {},
   "outputs": [],
   "source": [
    "#Functions used in the code\n",
    "def norm(arr1,arr2):\n",
    "    diff = arr1[1] - arr1[0]\n",
    "    func = scipy.interpolate.interp1d(arr1,arr2)\n",
    "    nor = 0\n",
    "    for i in range(0,(len(arr1)-1)):\n",
    "        diff1 = diff/4\n",
    "        p1 = func(arr1[i])\n",
    "        p2 = func(arr1[i]+(diff1))\n",
    "        p3 = func(arr1[i]+(2*diff1))\n",
    "        p4 = func(arr1[i]+(3*diff1))\n",
    "        p5 = func(arr1[i+1])\n",
    "        nor = nor+((2*diff)/45)*((7*p1)+(32*p2)+(12*p3)+(32*p4)+(7*p5))\n",
    "    return nor \n",
    "\n",
    "def read_strain(file, dname):\n",
    "    with h5py.File(file, 'r') as f:\n",
    "        t0 = f['meta/GPSstart'][()]\n",
    "        T = f['meta/Duration'][()]\n",
    "        h = f['strain/Strain'][:]\n",
    "    \n",
    "        dt = T/len(h)\n",
    "    \n",
    "        raw_strain = ringdown.Data(h, index=t0 + dt*arange(len(h)), ifo=dname)\n",
    "        \n",
    "        return raw_strain\n",
    "\n",
    "def next_pow_two(x):\n",
    "    y = 1\n",
    "    while y < x:\n",
    "        y = y << 1\n",
    "    return y"
   ]
  },
  {
   "cell_type": "code",
   "execution_count": 81,
   "id": "814c9e8a",
   "metadata": {},
   "outputs": [],
   "source": [
    "G1 = pycbc.catalog.catalog.get_source(source='gwtc-1')\n",
    "E1 = G1['GW150914-v3']\n",
    "h1_ringdown = 'H-H1_GWOSC_16KHZ_R1-1126259447-32.hdf5'\n",
    "l1_ringdown = 'L-L1_GWOSC_16KHZ_R1-1126259447-32.hdf5'\n",
    "right_ascension = 1.95\n",
    "declination = -1.27\n",
    "psi_in = 0.82\n",
    "\n",
    "tgps = E1['GPS']\n",
    "M_est = E1['final_mass_source']\n",
    "chi_est = E1['chi_eff']\n",
    "M1_min = E1['mass_1_source'] + E1['mass_1_source_lower']\n",
    "M1_max = E1['mass_1_source'] + E1['mass_1_source_upper']\n",
    "M2_min = E1['mass_2_source'] + E1['mass_2_source_lower']\n",
    "M2_max = E1['mass_2_source'] + E1['mass_2_source_upper']\n",
    "ld = E1['luminosity_distance']\n",
    "ld_l = E1['luminosity_distance'] + E1['luminosity_distance_lower']\n",
    "ld_u = E1['luminosity_distance'] + E1['luminosity_distance_upper']\n",
    "CM = E1['chirp_mass_source']\n",
    "CM_l = CM + E1['chirp_mass_source_lower']\n",
    "CM_u = CM + E1['chirp_mass_source_upper']"
   ]
  },
  {
   "cell_type": "markdown",
   "id": "e01403d0",
   "metadata": {},
   "source": [
    "# Bilby"
   ]
  },
  {
   "cell_type": "code",
   "execution_count": 82,
   "id": "ba628fd9",
   "metadata": {},
   "outputs": [],
   "source": [
    "def waveform_model(time,m1,m2,a1x,a1y,a1z,a2x,a2y,a2z,dist):\n",
    "    G1 = pycbc.catalog.catalog.get_source(source='gwtc-1')\n",
    "    E1 = G1['GW150914-v3']\n",
    "    hp,hc = pycbc.waveform.get_td_waveform(approximant = 'NRSur7dq4',\n",
    "                                           mass1 = m1, mass2 = m2,\n",
    "                                           spin1x = a1x, spin1y = a1y,\n",
    "                                           spin1z = a1z, spin2x = a2x,\n",
    "                                           spin2y = a2y, spin2z = a2z,\n",
    "                                           distance = dist,\n",
    "                                           f_lower = 75,\n",
    "                                           delta_t = 1/4096)\n",
    "    time = time - E1['GPS']\n",
    "    #n = int(np.abs(time)/(np.min(np.array(hp.sample_times)))*len(hp.sample_times))\n",
    "    outp = hp#[n]\n",
    "    outc = hc#[n]\n",
    "    return {\"plus\": outp, \"cross\": outc}\n",
    "\n",
    "injection_parameters = dict(\n",
    "    m1=36.0,\n",
    "    m2=30.0,\n",
    "    a1x=0.0,\n",
    "    a1y=0.0,\n",
    "    a1z=0.0,\n",
    "    a2x=0.0,\n",
    "    a2y=0.0,\n",
    "    a2z=0.0,\n",
    "    ra=0,\n",
    "    dec=0,\n",
    "    psi=0,\n",
    "    t0=0.0,\n",
    "    geocent_time=0.0,\n",
    ")"
   ]
  },
  {
   "cell_type": "code",
   "execution_count": 83,
   "id": "2832505d",
   "metadata": {},
   "outputs": [],
   "source": [
    "logger = bilby.core.utils.logger\n",
    "outdir = \"outdir\"\n",
    "label = \"GW150914\"\n",
    "\n",
    "trigger_time = tgps\n",
    "detectors = [\"H1\", \"L1\"]\n",
    "maximum_frequency = 1024\n",
    "minimum_frequency = 75\n",
    "roll_off = 0.4  #Roll off duration of tukey window in seconds, default is 0.4s\n",
    "duration = 4  #Analysis segment duration\n",
    "post_trigger_duration = 0  #Time between trigger time and end of segment\n",
    "end_time = trigger_time + post_trigger_duration\n",
    "start_time = end_time - duration"
   ]
  },
  {
   "cell_type": "code",
   "execution_count": 84,
   "id": "1e93ad24",
   "metadata": {},
   "outputs": [
    {
     "name": "stderr",
     "output_type": "stream",
     "text": [
      "15:53 bilby INFO    : Downloading analysis data for ifo H1\n",
      "15:53 bilby INFO    : Downloading analysis data for ifo L1\n",
      "15:53 bilby INFO    : Saving data plots to outdir\n",
      "15:53 bilby INFO    : Generating frequency domain strain from given time domain strain.\n",
      "15:53 bilby INFO    : Applying a tukey window with alpha=0.1, roll off=0.2\n",
      "15:53 bilby INFO    : Generating frequency domain strain from given time domain strain.\n",
      "15:53 bilby INFO    : Applying a tukey window with alpha=0.1, roll off=0.2\n"
     ]
    }
   ],
   "source": [
    "ifo_list = bilby.gw.detector.InterferometerList([])\n",
    "for det in detectors:\n",
    "    logger.info(\"Downloading analysis data for ifo {}\".format(det))\n",
    "    ifo = bilby.gw.detector.get_empty_interferometer(det)\n",
    "    data = TimeSeries.fetch_open_data(det, start_time, end_time)\n",
    "    ifo.strain_data.set_from_gwpy_timeseries(data)\n",
    "    ifo.maximum_frequency = maximum_frequency\n",
    "    ifo.minimum_frequency = minimum_frequency\n",
    "    ifo_list.append(ifo)\n",
    "\n",
    "logger.info(\"Saving data plots to {}\".format(outdir))\n",
    "bilby.core.utils.check_directory_exists_and_if_not_mkdir(outdir)\n",
    "ifo_list.plot_data(outdir=outdir, label=label)"
   ]
  },
  {
   "cell_type": "code",
   "execution_count": 97,
   "id": "641004e6",
   "metadata": {},
   "outputs": [],
   "source": [
    "prior = bilby.gw.prior.PriorDict()\n",
    "prior[\"geocent_time\"] = bilby.core.prior.Uniform(trigger_time - 0.1, trigger_time + 0.1, name=\"geocent_time\")\n",
    "prior[\"m1\"] = bilby.core.prior.Uniform(M1_min, M1_max, r\"m1\")\n",
    "prior[\"m2\"] = bilby.core.prior.Uniform(M2_min, M2_max, r\"m2\")\n",
    "prior[\"a1x\"] = 0.0 #bilby.core.prior.analytical.Uniform(name='a1x', minimum=0, maximum=0.99)\n",
    "prior[\"a1y\"] = 0.0 #bilby.core.prior.analytical.Uniform(name='a1y', minimum=0, maximum=0.99)\n",
    "prior[\"a1z\"] = 0.0 #bilby.core.prior.analytical.Uniform(name='a1z', minimum=0, maximum=0.99)\n",
    "prior[\"a2x\"] = 0.0 #bilby.core.prior.analytical.Uniform(name='a2x', minimum=0, maximum=0.99)\n",
    "prior[\"a2y\"] = 0.0 #bilby.core.prior.analytical.Uniform(name='a2y', minimum=0, maximum=0.99)\n",
    "prior[\"a2z\"] = 0.0 #bilby.core.prior.analytical.Uniform(name='a2z', minimum=0, maximum=0.99)\n",
    "prior[\"dist\"] = ld\n",
    "prior[\"ra\"] = right_ascension\n",
    "prior[\"dec\"] = declination\n",
    "prior[\"psi\"] = psi_in"
   ]
  },
  {
   "cell_type": "code",
   "execution_count": 98,
   "id": "00c5fdaa",
   "metadata": {
    "scrolled": true
   },
   "outputs": [
    {
     "name": "stderr",
     "output_type": "stream",
     "text": [
      "15:55 bilby INFO    : Waveform generator initiated with\n",
      "  frequency_domain_source_model: None\n",
      "  time_domain_source_model: __main__.waveform_model\n",
      "  parameter_conversion: bilby.gw.conversion.convert_to_lal_binary_black_hole_parameters\n"
     ]
    }
   ],
   "source": [
    "duration = 1\n",
    "sampling_frequency = 1024\n",
    "outdir = \"outdir\"\n",
    "label = \"time_domain_source_model\"\n",
    "\n",
    "waveform_generator = bilby.gw.WaveformGenerator(duration = duration,\n",
    "                                                sampling_frequency = sampling_frequency, \n",
    "                                                time_domain_source_model = waveform_model,\n",
    "                                                start_time = start_time)"
   ]
  },
  {
   "cell_type": "code",
   "execution_count": 99,
   "id": "3403febe",
   "metadata": {
    "scrolled": true
   },
   "outputs": [],
   "source": [
    "#import pycbc.waveform as wf\n",
    "#hp,hc = wf.get_td_waveform(approximant = 'TaylorT4', mass1 = 10, mass2 = 5, f_lower = 75, delta_t = 1/4096)\n",
    "#import matplotlib.pyplot as plt\n",
    "#plt.plot(hp.sample_times, hp)\n",
    "#plt.plot(hc.sample_times, hc)"
   ]
  },
  {
   "cell_type": "code",
   "execution_count": 100,
   "id": "483910be",
   "metadata": {},
   "outputs": [],
   "source": [
    "#import pycbc.waveform as wf\n",
    "#hp,hc = wf.get_td_waveform(approximant = 'NRSur7dq4', mass1 = 10, mass2 = 5, f_lower = 73, delta_t = 1/4096)\n",
    "#n = int(0.15/np.min(np.array(hp.sample_times))*len(hp.sample_times))\n",
    "#print(hp[n])\n",
    "#import matplotlib.pyplot as plt\n",
    "#plt.plot(hp.sample_times, hp)\n",
    "#plt.plot(hc.sample_times, hc)"
   ]
  },
  {
   "cell_type": "code",
   "execution_count": 101,
   "id": "d1ce3d2b",
   "metadata": {},
   "outputs": [],
   "source": [
    "likelihood = bilby.gw.likelihood.GravitationalWaveTransient(\n",
    "    ifo_list,\n",
    "    waveform_generator,\n",
    "    priors=prior,\n",
    ")"
   ]
  },
  {
   "cell_type": "code",
   "execution_count": 102,
   "id": "b73afd2b",
   "metadata": {
    "scrolled": false
   },
   "outputs": [
    {
     "name": "stderr",
     "output_type": "stream",
     "text": [
      "15:55 bilby INFO    : Running for label 'label', output will be saved to 'outdir'\n",
      "15:55 bilby INFO    : Using lal version 7.2.2\n",
      "15:55 bilby INFO    : Using lal git version Branch: None;Tag: lal-v7.2.2;Id: 5168d97ea9fcd06a3b49dd03a1a82d5e700e514e;;Builder: Adam Mercer <adam.mercer@ligo.org>;Repository status: CLEAN: All modifications committed\n",
      "15:55 bilby INFO    : Using lalsimulation version 4.0.2\n",
      "15:55 bilby INFO    : Using lalsimulation git version Branch: None;Tag: lalsimulation-v4.0.2;Id: 233cc3963d87688c272b7affe7dd0b962e4c11a0;;Builder: Adam Mercer <adam.mercer@ligo.org>;Repository status: CLEAN: All modifications committed\n",
      "15:55 bilby INFO    : Search parameters:\n",
      "15:55 bilby INFO    :   geocent_time = Uniform(minimum=1126259462.3000002, maximum=1126259462.5, name='geocent_time', latex_label='$t_c$', unit=None, boundary=None)\n",
      "15:55 bilby INFO    :   m1 = Uniform(minimum=32.5, maximum=40.300000000000004, name='m1', latex_label='m1', unit=None, boundary=None)\n",
      "15:55 bilby INFO    :   m2 = Uniform(minimum=26.200000000000003, maximum=33.6, name='m2', latex_label='m2', unit=None, boundary=None)\n",
      "15:55 bilby INFO    :   a1x = 0.0\n",
      "15:55 bilby INFO    :   a1y = 0.0\n",
      "15:55 bilby INFO    :   a1z = 0.0\n",
      "15:55 bilby INFO    :   a2x = 0.0\n",
      "15:55 bilby INFO    :   a2y = 0.0\n",
      "15:55 bilby INFO    :   a2z = 0.0\n",
      "15:55 bilby INFO    :   dist = 440.0\n",
      "15:55 bilby INFO    :   ra = 1.95\n",
      "15:55 bilby INFO    :   dec = -1.27\n",
      "15:55 bilby INFO    :   psi = 0.82\n"
     ]
    },
    {
     "ename": "ValueError",
     "evalue": "operands could not be broadcast together with shapes (103,) (8193,) (103,) ",
     "output_type": "error",
     "traceback": [
      "\u001b[0;31m---------------------------------------------------------------------------\u001b[0m",
      "\u001b[0;31mValueError\u001b[0m                                Traceback (most recent call last)",
      "Cell \u001b[0;32mIn [102], line 1\u001b[0m\n\u001b[0;32m----> 1\u001b[0m result \u001b[38;5;241m=\u001b[39m \u001b[43mbilby\u001b[49m\u001b[38;5;241;43m.\u001b[39;49m\u001b[43mrun_sampler\u001b[49m\u001b[43m(\u001b[49m\n\u001b[1;32m      2\u001b[0m \u001b[43m    \u001b[49m\u001b[43mlikelihood\u001b[49m\u001b[43m,\u001b[49m\n\u001b[1;32m      3\u001b[0m \u001b[43m    \u001b[49m\u001b[43mprior\u001b[49m\u001b[43m,\u001b[49m\n\u001b[1;32m      4\u001b[0m \u001b[43m    \u001b[49m\u001b[43msampler\u001b[49m\u001b[38;5;241;43m=\u001b[39;49m\u001b[38;5;124;43m\"\u001b[39;49m\u001b[38;5;124;43mdynesty\u001b[39;49m\u001b[38;5;124;43m\"\u001b[39;49m\u001b[43m,\u001b[49m\n\u001b[1;32m      5\u001b[0m \u001b[43m    \u001b[49m\u001b[43mnlive\u001b[49m\u001b[38;5;241;43m=\u001b[39;49m\u001b[38;5;241;43m1000\u001b[39;49m\u001b[43m,\u001b[49m\n\u001b[1;32m      6\u001b[0m \u001b[43m    \u001b[49m\u001b[38;5;66;43;03m#npoints=20000,\u001b[39;49;00m\n\u001b[1;32m      7\u001b[0m \u001b[43m    \u001b[49m\u001b[43mcheck_point_delta_t\u001b[49m\u001b[38;5;241;43m=\u001b[39;49m\u001b[38;5;241;43m600\u001b[39;49m\u001b[43m,\u001b[49m\n\u001b[1;32m      8\u001b[0m \u001b[43m    \u001b[49m\u001b[43mcheck_point_plot\u001b[49m\u001b[38;5;241;43m=\u001b[39;49m\u001b[38;5;28;43;01mTrue\u001b[39;49;00m\u001b[43m,\u001b[49m\n\u001b[1;32m      9\u001b[0m \u001b[43m    \u001b[49m\u001b[43minjection_parameters\u001b[49m\u001b[38;5;241;43m=\u001b[39;49m\u001b[43minjection_parameters\u001b[49m\u001b[43m,\u001b[49m\n\u001b[1;32m     10\u001b[0m \u001b[43m    \u001b[49m\u001b[43mnpool\u001b[49m\u001b[38;5;241;43m=\u001b[39;49m\u001b[38;5;241;43m1\u001b[39;49m\u001b[43m,\u001b[49m\n\u001b[1;32m     11\u001b[0m \u001b[43m    \u001b[49m\u001b[43mconversion_function\u001b[49m\u001b[38;5;241;43m=\u001b[39;49m\u001b[43mbilby\u001b[49m\u001b[38;5;241;43m.\u001b[39;49m\u001b[43mgw\u001b[49m\u001b[38;5;241;43m.\u001b[39;49m\u001b[43mconversion\u001b[49m\u001b[38;5;241;43m.\u001b[39;49m\u001b[43mgenerate_all_bbh_parameters\u001b[49m\u001b[43m,\u001b[49m\n\u001b[1;32m     12\u001b[0m \u001b[43m)\u001b[49m\n",
      "File \u001b[0;32m/nasdata1/ashwin.girish/miniconda3/envs/ringdown/lib/python3.10/site-packages/bilby/core/sampler/__init__.py:189\u001b[0m, in \u001b[0;36mrun_sampler\u001b[0;34m(likelihood, priors, label, outdir, sampler, use_ratio, injection_parameters, conversion_function, plot, default_priors_file, clean, meta_data, save, gzip, result_class, npool, **kwargs)\u001b[0m\n\u001b[1;32m    187\u001b[0m \u001b[38;5;28;01mif\u001b[39;00m sampler\u001b[38;5;241m.\u001b[39mlower() \u001b[38;5;129;01min\u001b[39;00m IMPLEMENTED_SAMPLERS:\n\u001b[1;32m    188\u001b[0m     sampler_class \u001b[38;5;241m=\u001b[39m IMPLEMENTED_SAMPLERS[sampler\u001b[38;5;241m.\u001b[39mlower()]\n\u001b[0;32m--> 189\u001b[0m     sampler \u001b[38;5;241m=\u001b[39m \u001b[43msampler_class\u001b[49m\u001b[43m(\u001b[49m\n\u001b[1;32m    190\u001b[0m \u001b[43m        \u001b[49m\u001b[43mlikelihood\u001b[49m\u001b[43m,\u001b[49m\n\u001b[1;32m    191\u001b[0m \u001b[43m        \u001b[49m\u001b[43mpriors\u001b[49m\u001b[38;5;241;43m=\u001b[39;49m\u001b[43mpriors\u001b[49m\u001b[43m,\u001b[49m\n\u001b[1;32m    192\u001b[0m \u001b[43m        \u001b[49m\u001b[43moutdir\u001b[49m\u001b[38;5;241;43m=\u001b[39;49m\u001b[43moutdir\u001b[49m\u001b[43m,\u001b[49m\n\u001b[1;32m    193\u001b[0m \u001b[43m        \u001b[49m\u001b[43mlabel\u001b[49m\u001b[38;5;241;43m=\u001b[39;49m\u001b[43mlabel\u001b[49m\u001b[43m,\u001b[49m\n\u001b[1;32m    194\u001b[0m \u001b[43m        \u001b[49m\u001b[43minjection_parameters\u001b[49m\u001b[38;5;241;43m=\u001b[39;49m\u001b[43minjection_parameters\u001b[49m\u001b[43m,\u001b[49m\n\u001b[1;32m    195\u001b[0m \u001b[43m        \u001b[49m\u001b[43mmeta_data\u001b[49m\u001b[38;5;241;43m=\u001b[39;49m\u001b[43mmeta_data\u001b[49m\u001b[43m,\u001b[49m\n\u001b[1;32m    196\u001b[0m \u001b[43m        \u001b[49m\u001b[43muse_ratio\u001b[49m\u001b[38;5;241;43m=\u001b[39;49m\u001b[43muse_ratio\u001b[49m\u001b[43m,\u001b[49m\n\u001b[1;32m    197\u001b[0m \u001b[43m        \u001b[49m\u001b[43mplot\u001b[49m\u001b[38;5;241;43m=\u001b[39;49m\u001b[43mplot\u001b[49m\u001b[43m,\u001b[49m\n\u001b[1;32m    198\u001b[0m \u001b[43m        \u001b[49m\u001b[43mresult_class\u001b[49m\u001b[38;5;241;43m=\u001b[39;49m\u001b[43mresult_class\u001b[49m\u001b[43m,\u001b[49m\n\u001b[1;32m    199\u001b[0m \u001b[43m        \u001b[49m\u001b[43mnpool\u001b[49m\u001b[38;5;241;43m=\u001b[39;49m\u001b[43mnpool\u001b[49m\u001b[43m,\u001b[49m\n\u001b[1;32m    200\u001b[0m \u001b[43m        \u001b[49m\u001b[38;5;241;43m*\u001b[39;49m\u001b[38;5;241;43m*\u001b[39;49m\u001b[43mkwargs\u001b[49m\u001b[43m,\u001b[49m\n\u001b[1;32m    201\u001b[0m \u001b[43m    \u001b[49m\u001b[43m)\u001b[49m\n\u001b[1;32m    202\u001b[0m \u001b[38;5;28;01melse\u001b[39;00m:\n\u001b[1;32m    203\u001b[0m     \u001b[38;5;28mprint\u001b[39m(IMPLEMENTED_SAMPLERS)\n",
      "File \u001b[0;32m/nasdata1/ashwin.girish/miniconda3/envs/ringdown/lib/python3.10/site-packages/bilby/core/sampler/dynesty.py:182\u001b[0m, in \u001b[0;36mDynesty.__init__\u001b[0;34m(self, likelihood, priors, outdir, label, use_ratio, plot, skip_import_verification, check_point, check_point_plot, n_check_point, check_point_delta_t, resume, nestcheck, exit_code, **kwargs)\u001b[0m\n\u001b[1;32m    163\u001b[0m \u001b[38;5;28;01mdef\u001b[39;00m \u001b[38;5;21m__init__\u001b[39m(\n\u001b[1;32m    164\u001b[0m     \u001b[38;5;28mself\u001b[39m,\n\u001b[1;32m    165\u001b[0m     likelihood,\n\u001b[0;32m   (...)\u001b[0m\n\u001b[1;32m    179\u001b[0m     \u001b[38;5;241m*\u001b[39m\u001b[38;5;241m*\u001b[39mkwargs,\n\u001b[1;32m    180\u001b[0m ):\n\u001b[1;32m    181\u001b[0m     \u001b[38;5;28mself\u001b[39m\u001b[38;5;241m.\u001b[39m_translate_kwargs(kwargs)\n\u001b[0;32m--> 182\u001b[0m     \u001b[38;5;28;43msuper\u001b[39;49m\u001b[43m(\u001b[49m\u001b[43mDynesty\u001b[49m\u001b[43m,\u001b[49m\u001b[43m \u001b[49m\u001b[38;5;28;43mself\u001b[39;49m\u001b[43m)\u001b[49m\u001b[38;5;241;43m.\u001b[39;49m\u001b[38;5;21;43m__init__\u001b[39;49m\u001b[43m(\u001b[49m\n\u001b[1;32m    183\u001b[0m \u001b[43m        \u001b[49m\u001b[43mlikelihood\u001b[49m\u001b[38;5;241;43m=\u001b[39;49m\u001b[43mlikelihood\u001b[49m\u001b[43m,\u001b[49m\n\u001b[1;32m    184\u001b[0m \u001b[43m        \u001b[49m\u001b[43mpriors\u001b[49m\u001b[38;5;241;43m=\u001b[39;49m\u001b[43mpriors\u001b[49m\u001b[43m,\u001b[49m\n\u001b[1;32m    185\u001b[0m \u001b[43m        \u001b[49m\u001b[43moutdir\u001b[49m\u001b[38;5;241;43m=\u001b[39;49m\u001b[43moutdir\u001b[49m\u001b[43m,\u001b[49m\n\u001b[1;32m    186\u001b[0m \u001b[43m        \u001b[49m\u001b[43mlabel\u001b[49m\u001b[38;5;241;43m=\u001b[39;49m\u001b[43mlabel\u001b[49m\u001b[43m,\u001b[49m\n\u001b[1;32m    187\u001b[0m \u001b[43m        \u001b[49m\u001b[43muse_ratio\u001b[49m\u001b[38;5;241;43m=\u001b[39;49m\u001b[43muse_ratio\u001b[49m\u001b[43m,\u001b[49m\n\u001b[1;32m    188\u001b[0m \u001b[43m        \u001b[49m\u001b[43mplot\u001b[49m\u001b[38;5;241;43m=\u001b[39;49m\u001b[43mplot\u001b[49m\u001b[43m,\u001b[49m\n\u001b[1;32m    189\u001b[0m \u001b[43m        \u001b[49m\u001b[43mskip_import_verification\u001b[49m\u001b[38;5;241;43m=\u001b[39;49m\u001b[43mskip_import_verification\u001b[49m\u001b[43m,\u001b[49m\n\u001b[1;32m    190\u001b[0m \u001b[43m        \u001b[49m\u001b[43mexit_code\u001b[49m\u001b[38;5;241;43m=\u001b[39;49m\u001b[43mexit_code\u001b[49m\u001b[43m,\u001b[49m\n\u001b[1;32m    191\u001b[0m \u001b[43m        \u001b[49m\u001b[38;5;241;43m*\u001b[39;49m\u001b[38;5;241;43m*\u001b[39;49m\u001b[43mkwargs\u001b[49m\u001b[43m,\u001b[49m\n\u001b[1;32m    192\u001b[0m \u001b[43m    \u001b[49m\u001b[43m)\u001b[49m\n\u001b[1;32m    193\u001b[0m     \u001b[38;5;28mself\u001b[39m\u001b[38;5;241m.\u001b[39mn_check_point \u001b[38;5;241m=\u001b[39m n_check_point\n\u001b[1;32m    194\u001b[0m     \u001b[38;5;28mself\u001b[39m\u001b[38;5;241m.\u001b[39mcheck_point \u001b[38;5;241m=\u001b[39m check_point\n",
      "File \u001b[0;32m/nasdata1/ashwin.girish/miniconda3/envs/ringdown/lib/python3.10/site-packages/bilby/core/sampler/base_sampler.py:250\u001b[0m, in \u001b[0;36mSampler.__init__\u001b[0;34m(self, likelihood, priors, outdir, label, use_ratio, plot, skip_import_verification, injection_parameters, meta_data, result_class, likelihood_benchmark, soft_init, exit_code, npool, **kwargs)\u001b[0m\n\u001b[1;32m    247\u001b[0m \u001b[38;5;28mself\u001b[39m\u001b[38;5;241m.\u001b[39mexit_code \u001b[38;5;241m=\u001b[39m exit_code\n\u001b[1;32m    249\u001b[0m \u001b[38;5;28;01mif\u001b[39;00m \u001b[38;5;129;01mnot\u001b[39;00m soft_init:\n\u001b[0;32m--> 250\u001b[0m     \u001b[38;5;28;43mself\u001b[39;49m\u001b[38;5;241;43m.\u001b[39;49m\u001b[43m_verify_parameters\u001b[49m\u001b[43m(\u001b[49m\u001b[43m)\u001b[49m\n\u001b[1;32m    251\u001b[0m     \u001b[38;5;28mself\u001b[39m\u001b[38;5;241m.\u001b[39m_time_likelihood()\n\u001b[1;32m    252\u001b[0m     \u001b[38;5;28mself\u001b[39m\u001b[38;5;241m.\u001b[39m_verify_use_ratio()\n",
      "File \u001b[0;32m/nasdata1/ashwin.girish/miniconda3/envs/ringdown/lib/python3.10/site-packages/bilby/core/sampler/base_sampler.py:413\u001b[0m, in \u001b[0;36mSampler._verify_parameters\u001b[0;34m(self)\u001b[0m\n\u001b[1;32m    409\u001b[0m theta \u001b[38;5;241m=\u001b[39m \u001b[38;5;28mself\u001b[39m\u001b[38;5;241m.\u001b[39mpriors\u001b[38;5;241m.\u001b[39msample_subset_constrained_as_array(\n\u001b[1;32m    410\u001b[0m     \u001b[38;5;28mself\u001b[39m\u001b[38;5;241m.\u001b[39msearch_parameter_keys, size\u001b[38;5;241m=\u001b[39m\u001b[38;5;241m1\u001b[39m\n\u001b[1;32m    411\u001b[0m )[:, \u001b[38;5;241m0\u001b[39m]\n\u001b[1;32m    412\u001b[0m \u001b[38;5;28;01mtry\u001b[39;00m:\n\u001b[0;32m--> 413\u001b[0m     \u001b[38;5;28;43mself\u001b[39;49m\u001b[38;5;241;43m.\u001b[39;49m\u001b[43mlog_likelihood\u001b[49m\u001b[43m(\u001b[49m\u001b[43mtheta\u001b[49m\u001b[43m)\u001b[49m\n\u001b[1;32m    414\u001b[0m \u001b[38;5;28;01mexcept\u001b[39;00m \u001b[38;5;167;01mTypeError\u001b[39;00m \u001b[38;5;28;01mas\u001b[39;00m e:\n\u001b[1;32m    415\u001b[0m     \u001b[38;5;28;01mraise\u001b[39;00m \u001b[38;5;167;01mTypeError\u001b[39;00m(\n\u001b[1;32m    416\u001b[0m         \u001b[38;5;124mf\u001b[39m\u001b[38;5;124m\"\u001b[39m\u001b[38;5;124mLikelihood evaluation failed with message: \u001b[39m\u001b[38;5;130;01m\\n\u001b[39;00m\u001b[38;5;124m'\u001b[39m\u001b[38;5;132;01m{\u001b[39;00me\u001b[38;5;132;01m}\u001b[39;00m\u001b[38;5;124m'\u001b[39m\u001b[38;5;130;01m\\n\u001b[39;00m\u001b[38;5;124m\"\u001b[39m\n\u001b[1;32m    417\u001b[0m         \u001b[38;5;124mf\u001b[39m\u001b[38;5;124m\"\u001b[39m\u001b[38;5;124mHave you specified all the parameters:\u001b[39m\u001b[38;5;130;01m\\n\u001b[39;00m\u001b[38;5;132;01m{\u001b[39;00m\u001b[38;5;28mself\u001b[39m\u001b[38;5;241m.\u001b[39mlikelihood\u001b[38;5;241m.\u001b[39mparameters\u001b[38;5;132;01m}\u001b[39;00m\u001b[38;5;124m\"\u001b[39m\n\u001b[1;32m    418\u001b[0m     )\n",
      "File \u001b[0;32m/nasdata1/ashwin.girish/miniconda3/envs/ringdown/lib/python3.10/site-packages/bilby/core/sampler/base_sampler.py:833\u001b[0m, in \u001b[0;36mNestedSampler.log_likelihood\u001b[0;34m(self, theta)\u001b[0m\n\u001b[1;32m    817\u001b[0m \u001b[38;5;124;03m\"\"\"\u001b[39;00m\n\u001b[1;32m    818\u001b[0m \u001b[38;5;124;03mSince some nested samplers don't call the log_prior method, evaluate\u001b[39;00m\n\u001b[1;32m    819\u001b[0m \u001b[38;5;124;03mthe prior constraint here.\u001b[39;00m\n\u001b[0;32m   (...)\u001b[0m\n\u001b[1;32m    828\u001b[0m \u001b[38;5;124;03mfloat: log_likelihood\u001b[39;00m\n\u001b[1;32m    829\u001b[0m \u001b[38;5;124;03m\"\"\"\u001b[39;00m\n\u001b[1;32m    830\u001b[0m \u001b[38;5;28;01mif\u001b[39;00m \u001b[38;5;28mself\u001b[39m\u001b[38;5;241m.\u001b[39mpriors\u001b[38;5;241m.\u001b[39mevaluate_constraints(\n\u001b[1;32m    831\u001b[0m     {key: theta[ii] \u001b[38;5;28;01mfor\u001b[39;00m ii, key \u001b[38;5;129;01min\u001b[39;00m \u001b[38;5;28menumerate\u001b[39m(\u001b[38;5;28mself\u001b[39m\u001b[38;5;241m.\u001b[39msearch_parameter_keys)}\n\u001b[1;32m    832\u001b[0m ):\n\u001b[0;32m--> 833\u001b[0m     \u001b[38;5;28;01mreturn\u001b[39;00m \u001b[43mSampler\u001b[49m\u001b[38;5;241;43m.\u001b[39;49m\u001b[43mlog_likelihood\u001b[49m\u001b[43m(\u001b[49m\u001b[38;5;28;43mself\u001b[39;49m\u001b[43m,\u001b[49m\u001b[43m \u001b[49m\u001b[43mtheta\u001b[49m\u001b[43m)\u001b[49m\n\u001b[1;32m    834\u001b[0m \u001b[38;5;28;01melse\u001b[39;00m:\n\u001b[1;32m    835\u001b[0m     \u001b[38;5;28;01mreturn\u001b[39;00m np\u001b[38;5;241m.\u001b[39mnan_to_num(\u001b[38;5;241m-\u001b[39mnp\u001b[38;5;241m.\u001b[39minf)\n",
      "File \u001b[0;32m/nasdata1/ashwin.girish/miniconda3/envs/ringdown/lib/python3.10/site-packages/bilby/core/sampler/base_sampler.py:528\u001b[0m, in \u001b[0;36mSampler.log_likelihood\u001b[0;34m(self, theta)\u001b[0m\n\u001b[1;32m    526\u001b[0m     \u001b[38;5;28;01mreturn\u001b[39;00m \u001b[38;5;28mself\u001b[39m\u001b[38;5;241m.\u001b[39mlikelihood\u001b[38;5;241m.\u001b[39mlog_likelihood_ratio()\n\u001b[1;32m    527\u001b[0m \u001b[38;5;28;01melse\u001b[39;00m:\n\u001b[0;32m--> 528\u001b[0m     \u001b[38;5;28;01mreturn\u001b[39;00m \u001b[38;5;28;43mself\u001b[39;49m\u001b[38;5;241;43m.\u001b[39;49m\u001b[43mlikelihood\u001b[49m\u001b[38;5;241;43m.\u001b[39;49m\u001b[43mlog_likelihood\u001b[49m\u001b[43m(\u001b[49m\u001b[43m)\u001b[49m\n",
      "File \u001b[0;32m/nasdata1/ashwin.girish/miniconda3/envs/ringdown/lib/python3.10/site-packages/bilby/gw/likelihood/base.py:803\u001b[0m, in \u001b[0;36mGravitationalWaveTransient.log_likelihood\u001b[0;34m(self)\u001b[0m\n\u001b[1;32m    802\u001b[0m \u001b[38;5;28;01mdef\u001b[39;00m \u001b[38;5;21mlog_likelihood\u001b[39m(\u001b[38;5;28mself\u001b[39m):\n\u001b[0;32m--> 803\u001b[0m     \u001b[38;5;28;01mreturn\u001b[39;00m \u001b[38;5;28;43mself\u001b[39;49m\u001b[38;5;241;43m.\u001b[39;49m\u001b[43mlog_likelihood_ratio\u001b[49m\u001b[43m(\u001b[49m\u001b[43m)\u001b[49m \u001b[38;5;241m+\u001b[39m \u001b[38;5;28mself\u001b[39m\u001b[38;5;241m.\u001b[39mnoise_log_likelihood()\n",
      "File \u001b[0;32m/nasdata1/ashwin.girish/miniconda3/envs/ringdown/lib/python3.10/site-packages/bilby/gw/likelihood/base.py:388\u001b[0m, in \u001b[0;36mGravitationalWaveTransient.log_likelihood_ratio\u001b[0;34m(self)\u001b[0m\n\u001b[1;32m    385\u001b[0m     optimal_snr_squared_array \u001b[38;5;241m=\u001b[39m np\u001b[38;5;241m.\u001b[39mzeros(\u001b[38;5;28mself\u001b[39m\u001b[38;5;241m.\u001b[39mnumber_of_response_curves, dtype\u001b[38;5;241m=\u001b[39mnp\u001b[38;5;241m.\u001b[39mcomplex128)\n\u001b[1;32m    387\u001b[0m \u001b[38;5;28;01mfor\u001b[39;00m interferometer \u001b[38;5;129;01min\u001b[39;00m \u001b[38;5;28mself\u001b[39m\u001b[38;5;241m.\u001b[39minterferometers:\n\u001b[0;32m--> 388\u001b[0m     per_detector_snr \u001b[38;5;241m=\u001b[39m \u001b[38;5;28;43mself\u001b[39;49m\u001b[38;5;241;43m.\u001b[39;49m\u001b[43mcalculate_snrs\u001b[49m\u001b[43m(\u001b[49m\n\u001b[1;32m    389\u001b[0m \u001b[43m        \u001b[49m\u001b[43mwaveform_polarizations\u001b[49m\u001b[38;5;241;43m=\u001b[39;49m\u001b[43mwaveform_polarizations\u001b[49m\u001b[43m,\u001b[49m\n\u001b[1;32m    390\u001b[0m \u001b[43m        \u001b[49m\u001b[43minterferometer\u001b[49m\u001b[38;5;241;43m=\u001b[39;49m\u001b[43minterferometer\u001b[49m\u001b[43m)\u001b[49m\n\u001b[1;32m    392\u001b[0m     d_inner_h \u001b[38;5;241m+\u001b[39m\u001b[38;5;241m=\u001b[39m per_detector_snr\u001b[38;5;241m.\u001b[39md_inner_h\n\u001b[1;32m    393\u001b[0m     optimal_snr_squared \u001b[38;5;241m+\u001b[39m\u001b[38;5;241m=\u001b[39m np\u001b[38;5;241m.\u001b[39mreal(per_detector_snr\u001b[38;5;241m.\u001b[39moptimal_snr_squared)\n",
      "File \u001b[0;32m/nasdata1/ashwin.girish/miniconda3/envs/ringdown/lib/python3.10/site-packages/bilby/gw/likelihood/base.py:237\u001b[0m, in \u001b[0;36mGravitationalWaveTransient.calculate_snrs\u001b[0;34m(self, waveform_polarizations, interferometer)\u001b[0m\n\u001b[1;32m    225\u001b[0m \u001b[38;5;28;01mdef\u001b[39;00m \u001b[38;5;21mcalculate_snrs\u001b[39m(\u001b[38;5;28mself\u001b[39m, waveform_polarizations, interferometer):\n\u001b[1;32m    226\u001b[0m     \u001b[38;5;124;03m\"\"\"\u001b[39;00m\n\u001b[1;32m    227\u001b[0m \u001b[38;5;124;03m    Compute the snrs\u001b[39;00m\n\u001b[1;32m    228\u001b[0m \n\u001b[0;32m   (...)\u001b[0m\n\u001b[1;32m    235\u001b[0m \n\u001b[1;32m    236\u001b[0m \u001b[38;5;124;03m    \"\"\"\u001b[39;00m\n\u001b[0;32m--> 237\u001b[0m     signal \u001b[38;5;241m=\u001b[39m \u001b[43minterferometer\u001b[49m\u001b[38;5;241;43m.\u001b[39;49m\u001b[43mget_detector_response\u001b[49m\u001b[43m(\u001b[49m\n\u001b[1;32m    238\u001b[0m \u001b[43m        \u001b[49m\u001b[43mwaveform_polarizations\u001b[49m\u001b[43m,\u001b[49m\u001b[43m \u001b[49m\u001b[38;5;28;43mself\u001b[39;49m\u001b[38;5;241;43m.\u001b[39;49m\u001b[43mparameters\u001b[49m\u001b[43m)\u001b[49m\n\u001b[1;32m    239\u001b[0m     _mask \u001b[38;5;241m=\u001b[39m interferometer\u001b[38;5;241m.\u001b[39mfrequency_mask\n\u001b[1;32m    241\u001b[0m     \u001b[38;5;28;01mif\u001b[39;00m \u001b[38;5;124m'\u001b[39m\u001b[38;5;124mrecalib_index\u001b[39m\u001b[38;5;124m'\u001b[39m \u001b[38;5;129;01min\u001b[39;00m \u001b[38;5;28mself\u001b[39m\u001b[38;5;241m.\u001b[39mparameters:\n",
      "File \u001b[0;32m/nasdata1/ashwin.girish/miniconda3/envs/ringdown/lib/python3.10/site-packages/bilby/gw/detector/interferometer.py:302\u001b[0m, in \u001b[0;36mInterferometer.get_detector_response\u001b[0;34m(self, waveform_polarizations, parameters)\u001b[0m\n\u001b[1;32m    299\u001b[0m     signal[mode] \u001b[38;5;241m=\u001b[39m waveform_polarizations[mode] \u001b[38;5;241m*\u001b[39m det_response\n\u001b[1;32m    300\u001b[0m signal_ifo \u001b[38;5;241m=\u001b[39m \u001b[38;5;28msum\u001b[39m(signal\u001b[38;5;241m.\u001b[39mvalues())\n\u001b[0;32m--> 302\u001b[0m signal_ifo \u001b[38;5;241m*\u001b[39m\u001b[38;5;241m=\u001b[39m \u001b[38;5;28mself\u001b[39m\u001b[38;5;241m.\u001b[39mstrain_data\u001b[38;5;241m.\u001b[39mfrequency_mask\n\u001b[1;32m    304\u001b[0m time_shift \u001b[38;5;241m=\u001b[39m \u001b[38;5;28mself\u001b[39m\u001b[38;5;241m.\u001b[39mtime_delay_from_geocenter(\n\u001b[1;32m    305\u001b[0m     parameters[\u001b[38;5;124m'\u001b[39m\u001b[38;5;124mra\u001b[39m\u001b[38;5;124m'\u001b[39m], parameters[\u001b[38;5;124m'\u001b[39m\u001b[38;5;124mdec\u001b[39m\u001b[38;5;124m'\u001b[39m], parameters[\u001b[38;5;124m'\u001b[39m\u001b[38;5;124mgeocent_time\u001b[39m\u001b[38;5;124m'\u001b[39m])\n\u001b[1;32m    307\u001b[0m \u001b[38;5;66;03m# Be careful to first subtract the two GPS times which are ~1e9 sec.\u001b[39;00m\n\u001b[1;32m    308\u001b[0m \u001b[38;5;66;03m# And then add the time_shift which varies at ~1e-5 sec\u001b[39;00m\n",
      "\u001b[0;31mValueError\u001b[0m: operands could not be broadcast together with shapes (103,) (8193,) (103,) "
     ]
    }
   ],
   "source": [
    "result = bilby.run_sampler(\n",
    "    likelihood,\n",
    "    prior,\n",
    "    sampler=\"dynesty\",\n",
    "    nlive=1000,\n",
    "    #npoints=20000,\n",
    "    check_point_delta_t=600,\n",
    "    check_point_plot=True,\n",
    "    injection_parameters=injection_parameters,\n",
    "    npool=1,\n",
    "    conversion_function=bilby.gw.conversion.generate_all_bbh_parameters,\n",
    ")"
   ]
  },
  {
   "cell_type": "markdown",
   "id": "0f71b0bb",
   "metadata": {},
   "source": [
    "# Ringdown"
   ]
  },
  {
   "cell_type": "code",
   "execution_count": null,
   "id": "192c753d",
   "metadata": {},
   "outputs": [],
   "source": [
    "#Input parameters\n",
    "right_ascension = np.mean(np.array(result.posterior.ra))\n",
    "declination = np.mean(np.array(result.posterior.dec))\n",
    "psi_in = np.mean(np.array(result.posterior.psi))"
   ]
  },
  {
   "cell_type": "code",
   "execution_count": null,
   "id": "ab6f48b7",
   "metadata": {},
   "outputs": [],
   "source": [
    "h_raw_strain = read_strain(h1_ringdown, 'H1')\n",
    "l_raw_strain = read_strain(l1_ringdown, 'L1')\n",
    "\n",
    "longest_tau = ringdown.qnms.get_ftau(M_est, chi_est, 0, l=2, m=2)[1]\n",
    "highest_drate = 1/ringdown.qnms.get_ftau(M_est, chi_est, 1, l=2, m=2)[1]\n",
    "print('The damping rate of the second tone is: {:.1f} Hz'.format(highest_drate))\n",
    "print('The time constant of the first tone is: {:.1f} ms'.format(1000*longest_tau))\n",
    "\n",
    "T = 10*longest_tau\n",
    "srate = next_pow_two(2*highest_drate)\n",
    "print('Segment of {:.1f} ms at sample rate {:.0f}'.format(1000*T, srate))"
   ]
  },
  {
   "cell_type": "code",
   "execution_count": null,
   "id": "001c81d5",
   "metadata": {},
   "outputs": [],
   "source": [
    "#Choosing Ringdown model and conditioning data\n",
    "fit = ringdown.Fit(model='mchi', modes=[(1, -2, 2, 2, 0), (1, -2, 2, 2, 1)])  # use model='ftau' to fit damped sinusoids instead of +/x polarized GW modes\n",
    "fit.add_data(h_raw_strain)\n",
    "fit.add_data(l_raw_strain)\n",
    "fit.set_target(tgps, ra=right_ascension, dec=declination, psi=psi_in, duration=T) #check if ra dec and psi are correct\n",
    "fit.condition_data(ds=int(round(h_raw_strain.fsamp/srate)), flow=1/T)\n",
    "fit.compute_acfs()\n",
    "wd = fit.whiten(fit.analysis_data)"
   ]
  },
  {
   "cell_type": "code",
   "execution_count": null,
   "id": "662352e1",
   "metadata": {},
   "outputs": [],
   "source": [
    "#Setting Priors and running fit\n",
    "fit.update_prior(A_scale=5e-21, M_min=35.0, M_max=140.0, flat_A=True)\n",
    "fit.run(draws=1500,random_seed=1234)"
   ]
  },
  {
   "cell_type": "markdown",
   "id": "a5f0cfa8",
   "metadata": {},
   "source": [
    "# Calculating Areas"
   ]
  },
  {
   "cell_type": "code",
   "execution_count": null,
   "id": "8126e123",
   "metadata": {},
   "outputs": [],
   "source": [
    "#Calculating final area \n",
    "m = np.array(fit.result.posterior.M)\n",
    "spin = np.array(fit.result.posterior.chi)\n",
    "mass = np.array([])\n",
    "a = np.array([])\n",
    "for i in range(0,4):\n",
    "    mass = np.append(mass,m[i])\n",
    "    a = np.append(a,spin[i])\n",
    "\n",
    "G = 6.67 * (10**(-11))\n",
    "c = 9 * (10**9)\n",
    "area = [0 for i in range(0,len(mass))]\n",
    "for i in range(0,len(mass)): \n",
    "    temp = 8*np.pi*(((G*mass[i])/(c**2))**2)*(1+((1-(a[i]**2))**(1/2)))\n",
    "    area[i] = temp\n",
    "area_f = np.array(area)"
   ]
  },
  {
   "cell_type": "code",
   "execution_count": null,
   "id": "ec18865d",
   "metadata": {},
   "outputs": [],
   "source": [
    "#Initial Areas\n",
    "mass1 = np.array(result.posterior.mass_1_source)\n",
    "mass2 = np.array(result.posterior.mass_2_source)\n",
    "a1 = np.array(result.posterior.a_1)\n",
    "a2 = np.array(result.posterior.a_2)\n",
    "\n",
    "area1 = np.array([8*np.pi*(((G*mass1[i])/(c**2))**2)*(1+((1-(a1[i]**2))**(1/2))) for i in range(0,len(mass1))])\n",
    "area2 = np.array([8*np.pi*(((G*mass2[i])/(c**2))**2)*(1+((1-(a2[i]**2))**(1/2))) for i in range(0,len(mass1))])\n",
    "area_i = np.array([(area1[i] + area2[i]) for i in range(len(area1))]) #total initial area"
   ]
  },
  {
   "cell_type": "markdown",
   "id": "8c36c2cf",
   "metadata": {},
   "source": [
    "# Calculating dA/A"
   ]
  },
  {
   "cell_type": "code",
   "execution_count": null,
   "id": "a95cffaf",
   "metadata": {},
   "outputs": [],
   "source": [
    "#Gaussian KDES - Check how these look with different smoothening parameters and bandwidths\n",
    "f2 = scipy.stats.gaussian_kde(area_i,bw_method='silverman') #KDE for initial area\n",
    "f1 = scipy.stats.gaussian_kde(area_f,bw_method='silverman') #KDE for final area\n",
    "\n",
    "N = 100 #Number of analysis points\n",
    "start = np.min(area_i)/2\n",
    "finish = np.max(area_f)*2\n",
    "u = np.linspace(start,finish,N)"
   ]
  },
  {
   "cell_type": "code",
   "execution_count": null,
   "id": "3ee8ff99",
   "metadata": {
    "scrolled": true
   },
   "outputs": [],
   "source": [
    "n,b,patches = plt.hist(area_f,bins=150)\n",
    "n = np.append(n,0)\n",
    "n = n*1e52*1.1 #Arbitrary scaling just for visualising data, no use in further calculations"
   ]
  },
  {
   "cell_type": "code",
   "execution_count": null,
   "id": "ae300117",
   "metadata": {},
   "outputs": [],
   "source": [
    "plt.plot(u,f1.evaluate(u),label='KDE',color='r')\n",
    "plt.plot(b,n,label='histogram',color='k')\n",
    "plt.legend()\n",
    "plt.title('Final Area')\n",
    "plt.show()"
   ]
  },
  {
   "cell_type": "code",
   "execution_count": null,
   "id": "80a781e4",
   "metadata": {},
   "outputs": [],
   "source": [
    "n,b,patches = plt.hist(area_i,bins=150)\n",
    "n = np.append(n,0)\n",
    "n = n*1e55/2 #Arbitrary scaling just for visualising data, no use in further calculations"
   ]
  },
  {
   "cell_type": "code",
   "execution_count": null,
   "id": "859387a2",
   "metadata": {},
   "outputs": [],
   "source": [
    "plt.plot(u,f2.evaluate(u),label='KDE',color='r')\n",
    "plt.plot(b,n,label='histogram',color='k')\n",
    "plt.legend()\n",
    "plt.title('Initial Area')\n",
    "plt.xlim(0.6e-55,1e-55)\n",
    "plt.show()"
   ]
  },
  {
   "cell_type": "code",
   "execution_count": null,
   "id": "0d961031",
   "metadata": {},
   "outputs": [],
   "source": [
    "#Integral for A_f/A_i ratio\n",
    "s = 0.0\n",
    "f = np.max(area_f)/np.min(area_i) \n",
    "I = [0.0 for i in range(0,N)]\n",
    "z = np.linspace(s,f,N)\n",
    "x = u\n",
    "h = (u[1]-u[0])/len(x)\n",
    "\n",
    "for i in range(0,len(z)):\n",
    "    for j in range(0,(len(x)-1)):\n",
    "        h1 = h/4\n",
    "        k1 = f1.evaluate(x[j]*z[i]) * f2.evaluate(x[j]) * x[j]\n",
    "        k2 = f1.evaluate((x[j]+(h1))*z[i]) * f2.evaluate(x[j]+(h1)) * (x[j]+(h1))\n",
    "        k3 = f1.evaluate((x[j]+(2*h1))*z[i]) * f2.evaluate(x[j]+(2*h1)) * (x[j]+(2*h1))\n",
    "        k4 = f1.evaluate((x[j]+(3*h1))*z[i]) * f2.evaluate(x[j]+(3*h1)) * (x[j]+(3*h1))\n",
    "        k5 = f1.evaluate(x[j+1]*z[i]) * f2.evaluate(x[j+1]) * x[j+1]\n",
    "        I[i] = I[i] + ((2*h)/45)*((7*k1)+(32*k2)+(12*k3)+(32*k4)+(7*k5))"
   ]
  },
  {
   "cell_type": "code",
   "execution_count": null,
   "id": "28d576e4",
   "metadata": {},
   "outputs": [],
   "source": [
    "z = z - 1\n",
    "# Normalising dA/A distribution\n",
    "temp = np.array([])\n",
    "for i in I:\n",
    "    temp = np.append(temp,i)\n",
    "I = temp\n",
    "normal = norm(z,I)\n",
    "I = I/normal\n",
    "\n",
    "#Plotting dA/A and exporting data to a file\n",
    "plt.plot(z,I)\n",
    "plt.show()"
   ]
  },
  {
   "cell_type": "code",
   "execution_count": null,
   "id": "2545d527",
   "metadata": {},
   "outputs": [],
   "source": []
  }
 ],
 "metadata": {
  "kernelspec": {
   "display_name": "ringdown",
   "language": "python",
   "name": "ringdown"
  },
  "language_info": {
   "codemirror_mode": {
    "name": "ipython",
    "version": 3
   },
   "file_extension": ".py",
   "mimetype": "text/x-python",
   "name": "python",
   "nbconvert_exporter": "python",
   "pygments_lexer": "ipython3",
   "version": "3.10.6"
  }
 },
 "nbformat": 4,
 "nbformat_minor": 5
}
