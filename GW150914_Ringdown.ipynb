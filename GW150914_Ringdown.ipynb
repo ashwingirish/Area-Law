{
 "cells": [
  {
   "cell_type": "code",
   "execution_count": 1,
   "id": "26f0d6fc",
   "metadata": {},
   "outputs": [],
   "source": [
    "from pylab import *\n",
    "import numpy as np\n",
    "import arviz as az\n",
    "import pandas as pd\n",
    "import seaborn as sns\n",
    "import h5py\n",
    "import ringdown\n",
    "import matplotlib.pyplot as plt\n",
    "import scipy\n",
    "import random\n",
    "\n",
    "sns.set_context('notebook')\n",
    "sns.set_palette('colorblind')"
   ]
  },
  {
   "cell_type": "code",
   "execution_count": 2,
   "id": "46bfe894",
   "metadata": {},
   "outputs": [],
   "source": [
    "#Functions used in the code\n",
    "def norm(arr1,arr2):\n",
    "    diff = arr1[1] - arr1[0]\n",
    "    func = scipy.interpolate.interp1d(arr1,arr2)\n",
    "    nor = 0\n",
    "    for i in range(0,(len(arr1)-1)):\n",
    "        diff1 = diff/4\n",
    "        p1 = func(arr1[i])\n",
    "        p2 = func(arr1[i]+(diff1))\n",
    "        p3 = func(arr1[i]+(2*diff1))\n",
    "        p4 = func(arr1[i]+(3*diff1))\n",
    "        p5 = func(arr1[i+1])\n",
    "        nor = nor+((2*diff)/45)*((7*p1)+(32*p2)+(12*p3)+(32*p4)+(7*p5))\n",
    "    return nor \n",
    "\n",
    "def read_strain(file, dname):\n",
    "    with h5py.File(file, 'r') as f:\n",
    "        t0 = f['meta/GPSstart'][()]\n",
    "        T = f['meta/Duration'][()]\n",
    "        h = f['strain/Strain'][:]\n",
    "    \n",
    "        dt = T/len(h)\n",
    "    \n",
    "        raw_strain = ringdown.Data(h, index=t0 + dt*arange(len(h)), ifo=dname)\n",
    "        \n",
    "        return raw_strain\n",
    "\n",
    "def next_pow_two(x):\n",
    "    y = 1\n",
    "    while y < x:\n",
    "        y = y << 1\n",
    "    return y"
   ]
  },
  {
   "cell_type": "code",
   "execution_count": 3,
   "id": "9beee036",
   "metadata": {},
   "outputs": [],
   "source": [
    "#Input parameters\n",
    "M_est = 70.0\n",
    "chi_est = 0.7\n",
    "tgps = 1126259462.4083147\n",
    "right_ascension = 1.95\n",
    "declination = -1.27\n",
    "psi_in = 0.82\n",
    "h1_ringdown = 'H-H1_GWOSC_16KHZ_R1-1126259447-32.hdf5'\n",
    "l1_ringdown = 'L-L1_GWOSC_16KHZ_R1-1126259447-32.hdf5'\n",
    "inspiral_data = '/nasdata1/ashwin.girish/downsampled_posterior_samples_v1.0.0/GW150914_downsampled_posterior_samples.dat'"
   ]
  },
  {
   "cell_type": "code",
   "execution_count": 4,
   "id": "174be3f6",
   "metadata": {},
   "outputs": [
    {
     "name": "stdout",
     "output_type": "stream",
     "text": [
      "The damping rate of the second tone is: 708.4 Hz\n",
      "The time constant of the first tone is: 4.3 ms\n",
      "Segment of 42.7 ms at sample rate 2048\n"
     ]
    }
   ],
   "source": [
    "h_raw_strain = read_strain(h1_ringdown, 'H1')\n",
    "l_raw_strain = read_strain(l1_ringdown, 'L1')\n",
    "\n",
    "longest_tau = ringdown.qnms.get_ftau(M_est, chi_est, 0, l=2, m=2)[1]\n",
    "highest_drate = 1/ringdown.qnms.get_ftau(M_est, chi_est, 1, l=2, m=2)[1]\n",
    "print('The damping rate of the second tone is: {:.1f} Hz'.format(highest_drate))\n",
    "print('The time constant of the first tone is: {:.1f} ms'.format(1000*longest_tau))\n",
    "\n",
    "T = 10*longest_tau\n",
    "srate = next_pow_two(2*highest_drate)\n",
    "print('Segment of {:.1f} ms at sample rate {:.0f}'.format(1000*T, srate))"
   ]
  },
  {
   "cell_type": "code",
   "execution_count": 5,
   "id": "7da1fc1f",
   "metadata": {},
   "outputs": [],
   "source": [
    "#Choosing Ringdown model and conditioning data\n",
    "fit = ringdown.Fit(model='mchi', modes=[(1, -2, 2, 2, 0), (1, -2, 2, 2, 1)])  # use model='ftau' to fit damped sinusoids instead of +/x polarized GW modes\n",
    "fit.add_data(h_raw_strain)\n",
    "fit.add_data(l_raw_strain)\n",
    "fit.set_target(tgps, ra=right_ascension, dec=declination, psi=psi_in, duration=T) #check if ra dec and psi are correct\n",
    "fit.condition_data(ds=int(round(h_raw_strain.fsamp/srate)), flow=1/T)\n",
    "fit.compute_acfs()\n",
    "wd = fit.whiten(fit.analysis_data)"
   ]
  },
  {
   "cell_type": "code",
   "execution_count": 6,
   "id": "74c4fc81",
   "metadata": {},
   "outputs": [
    {
     "name": "stderr",
     "output_type": "stream",
     "text": [
      "Auto-assigning NUTS sampler...\n",
      "INFO:pymc:Auto-assigning NUTS sampler...\n",
      "Initializing NUTS using jitter+adapt_full...\n",
      "INFO:pymc:Initializing NUTS using jitter+adapt_full...\n",
      "Multiprocess sampling (4 chains in 4 jobs)\n",
      "INFO:pymc:Multiprocess sampling (4 chains in 4 jobs)\n",
      "NUTS: [M, chi, Apx_unit, Apy_unit, Acx_unit, Acy_unit, df, dtau]\n",
      "INFO:pymc:NUTS: [M, chi, Apx_unit, Apy_unit, Acx_unit, Acy_unit, df, dtau]\n"
     ]
    },
    {
     "data": {
      "text/html": [
       "\n",
       "    <div>\n",
       "        <style>\n",
       "            /* Turns off some styling */\n",
       "            progress {\n",
       "                /* gets rid of default border in Firefox and Opera. */\n",
       "                border: none;\n",
       "                /* Needs to be in here for Safari polyfill so background images work as expected. */\n",
       "                background-size: auto;\n",
       "            }\n",
       "            .progress-bar-interrupted, .progress-bar-interrupted::-webkit-progress-bar {\n",
       "                background: #F44336;\n",
       "            }\n",
       "        </style>\n",
       "      <progress value='70000' class='' max='70000' style='width:300px; height:20px; vertical-align: middle;'></progress>\n",
       "      100.00% [70000/70000 04:50<00:00 Sampling 4 chains, 0 divergences]\n",
       "    </div>\n",
       "    "
      ],
      "text/plain": [
       "<IPython.core.display.HTML object>"
      ]
     },
     "metadata": {},
     "output_type": "display_data"
    },
    {
     "name": "stderr",
     "output_type": "stream",
     "text": [
      "Sampling 4 chains for 5_000 tune and 12_500 draw iterations (20_000 + 50_000 draws total) took 293 seconds.\n",
      "INFO:pymc:Sampling 4 chains for 5_000 tune and 12_500 draw iterations (20_000 + 50_000 draws total) took 293 seconds.\n"
     ]
    }
   ],
   "source": [
    "#Setting Priors and running fit\n",
    "fit.update_prior(A_scale=5e-21, M_min=35.0, M_max=140.0, flat_A=True)\n",
    "fit.run(draws=12500,tune=5000,random_seed=1234)"
   ]
  },
  {
   "cell_type": "code",
   "execution_count": 7,
   "id": "f2edc48e",
   "metadata": {},
   "outputs": [],
   "source": [
    "#Calculating final area \n",
    "m = np.array(fit.result.posterior.M)\n",
    "spin = np.array(fit.result.posterior.chi)\n",
    "mass = np.array([])\n",
    "a = np.array([])\n",
    "for i in range(0,4):\n",
    "    mass = np.append(mass,m[i])\n",
    "    a = np.append(a,spin[i])\n",
    "\n",
    "G = 6.67 * (10**(-11))\n",
    "c = 9 * (10**9)\n",
    "area = [0 for i in range(0,len(mass))]\n",
    "for i in range(0,len(mass)): \n",
    "    temp = 8*np.pi*(((G*mass[i])/(c**2))**2)*(1+((1-(a[i]**2))**(1/2)))\n",
    "    area[i] = temp\n",
    "area_f = np.array(area)"
   ]
  },
  {
   "cell_type": "code",
   "execution_count": 8,
   "id": "f9e2d664",
   "metadata": {},
   "outputs": [],
   "source": [
    "#Initial Areas\n",
    "insp = np.genfromtxt(inspiral_data, dtype=float)\n",
    "mass1 = np.array([insp[i][-10] for i in range(1,len(insp))])\n",
    "mass2 = np.array([insp[i][-9] for i in range(1,len(insp))])\n",
    "a1 = np.array([insp[i][2] for i in range(1,len(insp))])\n",
    "a2 = np.array([insp[i][3] for i in range(1,len(insp))])\n",
    "\n",
    "area1 = np.array([8*np.pi*(((G*mass1[i])/(c**2))**2)*(1+((1-(a1[i]**2))**(1/2))) for i in range(0,len(mass1))])\n",
    "area2 = np.array([8*np.pi*(((G*mass2[i])/(c**2))**2)*(1+((1-(a2[i]**2))**(1/2))) for i in range(0,len(mass1))])\n",
    "area_i = np.array([(area1[i] + area2[i]) for i in range(len(area1))]) #total initial area"
   ]
  },
  {
   "cell_type": "code",
   "execution_count": 81,
   "id": "33c571f4",
   "metadata": {},
   "outputs": [],
   "source": [
    "#Gaussian KDES - Check how these look with different smoothening parameters and bandwidths\n",
    "f2 = scipy.stats.gaussian_kde(area_i,bw_method='silverman') #KDE for initial area\n",
    "f1 = scipy.stats.gaussian_kde(area_f,bw_method='silverman') #KDE for final area\n",
    "\n",
    "N = 20 #Number of analysis points, I have taken fewer here, I take around 150 points when running on the cluster\n",
    "start = 0.30000*1e-55\n",
    "finish = 3.00000*1e-55 \n",
    "u = np.linspace(start,finish,N)"
   ]
  },
  {
   "cell_type": "code",
   "execution_count": 82,
   "id": "508148d6",
   "metadata": {
    "scrolled": true
   },
   "outputs": [
    {
     "data": {
      "image/png": "[encoded data removed]",
      "text/plain": [
       "<Figure size 432x288 with 1 Axes>"
      ]
     },
     "metadata": {
      "needs_background": "light"
     },
     "output_type": "display_data"
    }
   ],
   "source": [
    "n,b,patches = plt.hist(area_f,bins=150)\n",
    "n = np.append(n,0)\n",
    "n = n*1e52*1.1 #Arbitrary scaling just for visualising data, no use in further calculations"
   ]
  },
  {
   "cell_type": "code",
   "execution_count": 83,
   "id": "a00e2a1c",
   "metadata": {},
   "outputs": [
    {
     "data": {
      "image/png": "[encoded data removed]",
      "text/plain": [
       "<Figure size 432x288 with 1 Axes>"
      ]
     },
     "metadata": {
      "needs_background": "light"
     },
     "output_type": "display_data"
    }
   ],
   "source": [
    "plt.plot(u,f1.evaluate(u),label='KDE',color='r')\n",
    "plt.plot(b,n,label='histogram',color='k')\n",
    "plt.legend()\n",
    "plt.title('Final Area')\n",
    "plt.show()"
   ]
  },
  {
   "cell_type": "code",
   "execution_count": 86,
   "id": "9b25f5e9",
   "metadata": {},
   "outputs": [
    {
     "data": {
      "image/png": "[encoded data removed]",
      "text/plain": [
       "<Figure size 432x288 with 1 Axes>"
      ]
     },
     "metadata": {
      "needs_background": "light"
     },
     "output_type": "display_data"
    }
   ],
   "source": [
    "n,b,patches = plt.hist(area_i,bins=150)\n",
    "n = np.append(n,0)\n",
    "n = n*1e53/2 #Arbitrary scaling just for visualising data, no use in further calculations"
   ]
  },
  {
   "cell_type": "code",
   "execution_count": 87,
   "id": "31bed4f6",
   "metadata": {},
   "outputs": [
    {
     "data": {
      "image/png": "[encoded data removed]",
      "text/plain": [
       "<Figure size 432x288 with 1 Axes>"
      ]
     },
     "metadata": {
      "needs_background": "light"
     },
     "output_type": "display_data"
    }
   ],
   "source": [
    "plt.plot(u,f2.evaluate(u),label='KDE',color='r')\n",
    "plt.plot(b,n,label='histogram',color='k')\n",
    "plt.legend()\n",
    "plt.title('Initial Area')\n",
    "plt.xlim(0,1.25e-55)\n",
    "plt.show()"
   ]
  },
  {
   "cell_type": "code",
   "execution_count": 91,
   "id": "32e52dc8",
   "metadata": {},
   "outputs": [],
   "source": [
    "#Integral for A_f/A_i ratio\n",
    "s = 0.0\n",
    "f = 6.0 \n",
    "I = [0.0 for i in range(0,10*N)] #z is the array of ratios, I is the pdf\n",
    "z = np.linspace(s,f,10*N)\n",
    "x = u\n",
    "h = (u[1]-u[0])/len(x)\n",
    "\n",
    "for i in range(0,len(z)):\n",
    "    for j in range(0,(len(x)-1)):\n",
    "        h1 = h/4\n",
    "        k1 = f1.evaluate(x[j]*z[i]) * f2.evaluate(x[j]) * x[j]\n",
    "        k2 = f1.evaluate((x[j]+(h1))*z[i]) * f2.evaluate(x[j]+(h1)) * (x[j]+(h1))\n",
    "        k3 = f1.evaluate((x[j]+(2*h1))*z[i]) * f2.evaluate(x[j]+(2*h1)) * (x[j]+(2*h1))\n",
    "        k4 = f1.evaluate((x[j]+(3*h1))*z[i]) * f2.evaluate(x[j]+(3*h1)) * (x[j]+(3*h1))\n",
    "        k5 = f1.evaluate(x[j+1]*z[i]) * f2.evaluate(x[j+1]) * x[j+1]\n",
    "        I[i] = I[i] + ((2*h)/45)*((7*k1)+(32*k2)+(12*k3)+(32*k4)+(7*k5))"
   ]
  },
  {
   "cell_type": "code",
   "execution_count": 95,
   "id": "1f852237",
   "metadata": {},
   "outputs": [
    {
     "data": {
      "image/png": "[encoded data removed]",
      "text/plain": [
       "<Figure size 432x288 with 1 Axes>"
      ]
     },
     "metadata": {
      "needs_background": "light"
     },
     "output_type": "display_data"
    }
   ],
   "source": [
    "z = z - 1\n",
    "# Normalising dA/A distribution\n",
    "temp = np.array([])\n",
    "for i in I:\n",
    "    temp = np.append(temp,i)\n",
    "I = temp\n",
    "normal = norm(z,I)\n",
    "I = I/normal\n",
    "\n",
    "#Plotting dA/A and exporting data to a file\n",
    "plt.plot(z,I)\n",
    "plt.show()"
   ]
  },
  {
   "cell_type": "code",
   "execution_count": null,
   "id": "2a38103c",
   "metadata": {},
   "outputs": [],
   "source": []
  }
 ],
 "metadata": {
  "kernelspec": {
   "display_name": "ringdown",
   "language": "python",
   "name": "ringdown"
  },
  "language_info": {
   "codemirror_mode": {
    "name": "ipython",
    "version": 3
   },
   "file_extension": ".py",
   "mimetype": "text/x-python",
   "name": "python",
   "nbconvert_exporter": "python",
   "pygments_lexer": "ipython3",
   "version": "3.10.5"
  }
 },
 "nbformat": 4,
 "nbformat_minor": 5
}
